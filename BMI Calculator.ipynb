{
 "cells": [
  {
   "cell_type": "markdown",
   "id": "5f1df879-fceb-4899-bcc2-f80f271fd251",
   "metadata": {},
   "source": [
    "# BMI Calculator"
   ]
  },
  {
   "cell_type": "code",
   "execution_count": null,
   "id": "ae923fda-28b4-4554-ab0e-9750b5499ad4",
   "metadata": {},
   "outputs": [],
   "source": [
    "name = input(\"Enter you name: \")\n",
    "\n",
    "weight = int(input(\"Enter your weight in pounds: \"))\n",
    "\n",
    "height = int(input(\"Enter your height in inches: \"))\n",
    "\n",
    "BMI = (weight * 703) / (height * height)\n",
    "\n",
    "print(BMI)\n",
    "\n",
    "if BMI>0:\n",
    "    if(BMI<18.5):\n",
    "        print(name +\", you are underwight.\")\n",
    "    elif (BMI<=24.9):\n",
    "        print(name +\", you are normal weight.\")\n",
    "    elif (BMI<29.9):\n",
    "        print(name +\", you are overweight. You need to exercise more and stop sitting and writing so many python tutorials.\")\n",
    "    elif (BMI<34.9):\n",
    "        print(name +\", you are obese.\")\n",
    "    elif (BMI<39.9):\n",
    "        print(name +\", you are severely obese.\")\n",
    "    else:\n",
    "        print(name +\", you are morbidly obese.\")\n",
    "else:\n",
    "    print(\"Enter valid input\")"
   ]
  },
  {
   "cell_type": "code",
   "execution_count": null,
   "id": "9400e2c6-bf6b-4e7e-96eb-258fd1ce559a",
   "metadata": {},
   "outputs": [],
   "source": []
  },
  {
   "cell_type": "code",
   "execution_count": null,
   "id": "eb7cbe6b-6116-4c9f-8678-36682a588e20",
   "metadata": {},
   "outputs": [],
   "source": []
  },
  {
   "cell_type": "code",
   "execution_count": null,
   "id": "00bb47da-d9b4-475c-a2d2-8c8ef72af81e",
   "metadata": {},
   "outputs": [],
   "source": []
  }
 ],
 "metadata": {
  "kernelspec": {
   "display_name": "Python 3 (ipykernel)",
   "language": "python",
   "name": "python3"
  },
  "language_info": {
   "codemirror_mode": {
    "name": "ipython",
    "version": 3
   },
   "file_extension": ".py",
   "mimetype": "text/x-python",
   "name": "python",
   "nbconvert_exporter": "python",
   "pygments_lexer": "ipython3",
   "version": "3.11.7"
  }
 },
 "nbformat": 4,
 "nbformat_minor": 5
}
